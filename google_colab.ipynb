{
  "nbformat": 4,
  "nbformat_minor": 0,
  "metadata": {
    "colab": {
      "name": "google_colab.ipynb",
      "provenance": [],
      "authorship_tag": "ABX9TyPE+ZV+kzPRyHAU6inPoHP/",
      "include_colab_link": true
    },
    "kernelspec": {
      "name": "python3",
      "display_name": "Python 3"
    },
    "language_info": {
      "name": "python"
    }
  },
  "cells": [
    {
      "cell_type": "markdown",
      "metadata": {
        "id": "view-in-github",
        "colab_type": "text"
      },
      "source": [
        "<a href=\"https://colab.research.google.com/github/wcj365/love/blob/main/google_colab.ipynb\" target=\"_parent\"><img src=\"https://colab.research.google.com/assets/colab-badge.svg\" alt=\"Open In Colab\"/></a>"
      ]
    },
    {
      "cell_type": "code",
      "metadata": {
        "colab": {
          "base_uri": "https://localhost:8080/"
        },
        "id": "8C9oBRfb-Erg",
        "outputId": "64c80a2f-a39d-43e2-e0a4-387827a52a41"
      },
      "source": [
        "!git clone https://github.com/wcj365/love.git"
      ],
      "execution_count": 2,
      "outputs": [
        {
          "output_type": "stream",
          "name": "stdout",
          "text": [
            "Cloning into 'love'...\n",
            "remote: Enumerating objects: 45655, done.\u001b[K\n",
            "remote: Counting objects: 100% (7825/7825), done.\u001b[K\n",
            "remote: Compressing objects: 100% (895/895), done.\u001b[K\n",
            "remote: Total 45655 (delta 7120), reused 7584 (delta 6908), pack-reused 37830\u001b[K\n",
            "Receiving objects: 100% (45655/45655), 509.24 MiB | 34.10 MiB/s, done.\n",
            "Resolving deltas: 100% (39813/39813), done.\n"
          ]
        }
      ]
    },
    {
      "cell_type": "code",
      "metadata": {
        "colab": {
          "base_uri": "https://localhost:8080/",
          "height": 1000
        },
        "id": "O065ITvP-Sy1",
        "outputId": "786eb6dc-9410-4b63-faba-e94a9df0c96a"
      },
      "source": [
        "!pip install -r love/requirements.txt"
      ],
      "execution_count": 3,
      "outputs": [
        {
          "output_type": "stream",
          "name": "stdout",
          "text": [
            "Collecting pyppeteer\n",
            "  Downloading pyppeteer-0.2.6-py3-none-any.whl (83 kB)\n",
            "\u001b[?25l\r\u001b[K     |████                            | 10 kB 15.6 MB/s eta 0:00:01\r\u001b[K     |███████▉                        | 20 kB 19.4 MB/s eta 0:00:01\r\u001b[K     |███████████▊                    | 30 kB 16.1 MB/s eta 0:00:01\r\u001b[K     |███████████████▋                | 40 kB 10.9 MB/s eta 0:00:01\r\u001b[K     |███████████████████▌            | 51 kB 5.4 MB/s eta 0:00:01\r\u001b[K     |███████████████████████▍        | 61 kB 5.5 MB/s eta 0:00:01\r\u001b[K     |███████████████████████████▍    | 71 kB 5.8 MB/s eta 0:00:01\r\u001b[K     |███████████████████████████████▎| 81 kB 6.5 MB/s eta 0:00:01\r\u001b[K     |████████████████████████████████| 83 kB 1.7 MB/s \n",
            "\u001b[?25hCollecting jieba3k\n",
            "  Downloading jieba3k-0.35.1.zip (7.4 MB)\n",
            "\u001b[K     |████████████████████████████████| 7.4 MB 11.3 MB/s \n",
            "\u001b[?25hCollecting jupyter-book\n",
            "  Downloading jupyter_book-0.12.0-py3-none-any.whl (42 kB)\n",
            "\u001b[K     |████████████████████████████████| 42 kB 1.3 MB/s \n",
            "\u001b[?25hCollecting websockets<10.0,>=9.1\n",
            "  Downloading websockets-9.1-cp37-cp37m-manylinux2010_x86_64.whl (103 kB)\n",
            "\u001b[K     |████████████████████████████████| 103 kB 29.5 MB/s \n",
            "\u001b[?25hCollecting urllib3<2.0.0,>=1.25.8\n",
            "  Downloading urllib3-1.26.7-py2.py3-none-any.whl (138 kB)\n",
            "\u001b[K     |████████████████████████████████| 138 kB 71.3 MB/s \n",
            "\u001b[?25hRequirement already satisfied: appdirs<2.0.0,>=1.4.3 in /usr/local/lib/python3.7/dist-packages (from pyppeteer->-r love/requirements.txt (line 1)) (1.4.4)\n",
            "Requirement already satisfied: tqdm<5.0.0,>=4.42.1 in /usr/local/lib/python3.7/dist-packages (from pyppeteer->-r love/requirements.txt (line 1)) (4.62.3)\n",
            "Requirement already satisfied: importlib-metadata>=1.4 in /usr/local/lib/python3.7/dist-packages (from pyppeteer->-r love/requirements.txt (line 1)) (4.8.2)\n",
            "Collecting pyee<9.0.0,>=8.1.0\n",
            "  Downloading pyee-8.2.2-py2.py3-none-any.whl (12 kB)\n",
            "Requirement already satisfied: typing-extensions>=3.6.4 in /usr/local/lib/python3.7/dist-packages (from importlib-metadata>=1.4->pyppeteer->-r love/requirements.txt (line 1)) (3.10.0.2)\n",
            "Requirement already satisfied: zipp>=0.5 in /usr/local/lib/python3.7/dist-packages (from importlib-metadata>=1.4->pyppeteer->-r love/requirements.txt (line 1)) (3.6.0)\n",
            "Collecting sphinx-jupyterbook-latex~=0.4.3\n",
            "  Downloading sphinx_jupyterbook_latex-0.4.6-py3-none-any.whl (13 kB)\n",
            "Collecting linkify-it-py~=1.0.1\n",
            "  Downloading linkify_it_py-1.0.2-py3-none-any.whl (19 kB)\n",
            "Collecting sphinx-togglebutton\n",
            "  Downloading sphinx_togglebutton-0.2.3-py3-none-any.whl (6.1 kB)\n",
            "Collecting sphinx-multitoc-numbering~=0.1.3\n",
            "  Downloading sphinx_multitoc_numbering-0.1.3-py3-none-any.whl (4.6 kB)\n",
            "Collecting sphinx-external-toc~=0.2.3\n",
            "  Downloading sphinx_external_toc-0.2.3-py3-none-any.whl (24 kB)\n",
            "Requirement already satisfied: click~=7.1 in /usr/local/lib/python3.7/dist-packages (from jupyter-book->-r love/requirements.txt (line 3)) (7.1.2)\n",
            "Collecting sphinx<5,>=3\n",
            "  Downloading Sphinx-4.3.0-py3-none-any.whl (3.1 MB)\n",
            "\u001b[K     |████████████████████████████████| 3.1 MB 29.6 MB/s \n",
            "\u001b[?25hRequirement already satisfied: jsonschema<4 in /usr/local/lib/python3.7/dist-packages (from jupyter-book->-r love/requirements.txt (line 3)) (2.6.0)\n",
            "Collecting myst-nb~=0.13.1\n",
            "  Downloading myst_nb-0.13.1-py3-none-any.whl (37 kB)\n",
            "Collecting sphinx-book-theme~=0.1.4\n",
            "  Downloading sphinx_book_theme-0.1.7-py3-none-any.whl (91 kB)\n",
            "\u001b[K     |████████████████████████████████| 91 kB 9.7 MB/s \n",
            "\u001b[?25hCollecting sphinx-thebe~=0.0.10\n",
            "  Downloading sphinx_thebe-0.0.10-py3-none-any.whl (7.7 kB)\n",
            "Collecting docutils<0.18,>=0.15\n",
            "  Downloading docutils-0.17.1-py2.py3-none-any.whl (575 kB)\n",
            "\u001b[K     |████████████████████████████████| 575 kB 60.1 MB/s \n",
            "\u001b[?25hCollecting sphinx-copybutton\n",
            "  Downloading sphinx_copybutton-0.4.0-py3-none-any.whl (12 kB)\n",
            "Collecting sphinxcontrib-bibtex~=2.2.0\n",
            "  Downloading sphinxcontrib_bibtex-2.2.1-py3-none-any.whl (31 kB)\n",
            "Collecting sphinx-comments\n",
            "  Downloading sphinx_comments-0.0.3-py3-none-any.whl (4.6 kB)\n",
            "Collecting sphinx-panels~=0.6.0\n",
            "  Downloading sphinx_panels-0.6.0-py3-none-any.whl (87 kB)\n",
            "\u001b[K     |████████████████████████████████| 87 kB 6.2 MB/s \n",
            "\u001b[?25hRequirement already satisfied: pyyaml in /usr/local/lib/python3.7/dist-packages (from jupyter-book->-r love/requirements.txt (line 3)) (3.13)\n",
            "Collecting jupytext<1.12,>=1.11.2\n",
            "  Downloading jupytext-1.11.5-py3-none-any.whl (292 kB)\n",
            "\u001b[K     |████████████████████████████████| 292 kB 59.1 MB/s \n",
            "\u001b[?25hRequirement already satisfied: toml in /usr/local/lib/python3.7/dist-packages (from jupytext<1.12,>=1.11.2->jupyter-book->-r love/requirements.txt (line 3)) (0.10.2)\n",
            "Collecting mdit-py-plugins\n",
            "  Downloading mdit_py_plugins-0.2.8-py3-none-any.whl (41 kB)\n",
            "\u001b[K     |████████████████████████████████| 41 kB 37 kB/s \n",
            "\u001b[?25hRequirement already satisfied: nbformat in /usr/local/lib/python3.7/dist-packages (from jupytext<1.12,>=1.11.2->jupyter-book->-r love/requirements.txt (line 3)) (5.1.3)\n",
            "Collecting markdown-it-py~=1.0\n",
            "  Downloading markdown_it_py-1.1.0-py3-none-any.whl (83 kB)\n",
            "\u001b[K     |████████████████████████████████| 83 kB 2.1 MB/s \n",
            "\u001b[?25hCollecting uc-micro-py\n",
            "  Downloading uc_micro_py-1.0.1-py3-none-any.whl (6.2 kB)\n",
            "Requirement already satisfied: attrs<22,>=19 in /usr/local/lib/python3.7/dist-packages (from markdown-it-py~=1.0->jupytext<1.12,>=1.11.2->jupyter-book->-r love/requirements.txt (line 3)) (21.2.0)\n",
            "Requirement already satisfied: ipywidgets<8,>=7.0.0 in /usr/local/lib/python3.7/dist-packages (from myst-nb~=0.13.1->jupyter-book->-r love/requirements.txt (line 3)) (7.6.5)\n",
            "Collecting myst-parser~=0.15.2\n",
            "  Downloading myst_parser-0.15.2-py3-none-any.whl (46 kB)\n",
            "\u001b[K     |████████████████████████████████| 46 kB 3.9 MB/s \n",
            "\u001b[?25hRequirement already satisfied: ipython in /usr/local/lib/python3.7/dist-packages (from myst-nb~=0.13.1->jupyter-book->-r love/requirements.txt (line 3)) (5.5.0)\n",
            "Requirement already satisfied: nbconvert<7,>=5.6 in /usr/local/lib/python3.7/dist-packages (from myst-nb~=0.13.1->jupyter-book->-r love/requirements.txt (line 3)) (5.6.1)\n",
            "Collecting jupyter-sphinx~=0.3.2\n",
            "  Downloading jupyter_sphinx-0.3.2-py3-none-any.whl (20 kB)\n",
            "Collecting jupyter-cache~=0.4.1\n",
            "  Downloading jupyter_cache-0.4.3-py3-none-any.whl (31 kB)\n",
            "Requirement already satisfied: ipython-genutils~=0.2.0 in /usr/local/lib/python3.7/dist-packages (from ipywidgets<8,>=7.0.0->myst-nb~=0.13.1->jupyter-book->-r love/requirements.txt (line 3)) (0.2.0)\n",
            "Requirement already satisfied: ipykernel>=4.5.1 in /usr/local/lib/python3.7/dist-packages (from ipywidgets<8,>=7.0.0->myst-nb~=0.13.1->jupyter-book->-r love/requirements.txt (line 3)) (4.10.1)\n",
            "Requirement already satisfied: widgetsnbextension~=3.5.0 in /usr/local/lib/python3.7/dist-packages (from ipywidgets<8,>=7.0.0->myst-nb~=0.13.1->jupyter-book->-r love/requirements.txt (line 3)) (3.5.2)\n",
            "Requirement already satisfied: jupyterlab-widgets>=1.0.0 in /usr/local/lib/python3.7/dist-packages (from ipywidgets<8,>=7.0.0->myst-nb~=0.13.1->jupyter-book->-r love/requirements.txt (line 3)) (1.0.2)\n",
            "Requirement already satisfied: traitlets>=4.3.1 in /usr/local/lib/python3.7/dist-packages (from ipywidgets<8,>=7.0.0->myst-nb~=0.13.1->jupyter-book->-r love/requirements.txt (line 3)) (5.1.1)\n",
            "Requirement already satisfied: jupyter-client in /usr/local/lib/python3.7/dist-packages (from ipykernel>=4.5.1->ipywidgets<8,>=7.0.0->myst-nb~=0.13.1->jupyter-book->-r love/requirements.txt (line 3)) (5.3.5)\n",
            "Requirement already satisfied: tornado>=4.0 in /usr/local/lib/python3.7/dist-packages (from ipykernel>=4.5.1->ipywidgets<8,>=7.0.0->myst-nb~=0.13.1->jupyter-book->-r love/requirements.txt (line 3)) (5.1.1)\n",
            "Requirement already satisfied: decorator in /usr/local/lib/python3.7/dist-packages (from ipython->myst-nb~=0.13.1->jupyter-book->-r love/requirements.txt (line 3)) (4.4.2)\n",
            "Requirement already satisfied: pickleshare in /usr/local/lib/python3.7/dist-packages (from ipython->myst-nb~=0.13.1->jupyter-book->-r love/requirements.txt (line 3)) (0.7.5)\n",
            "Requirement already satisfied: setuptools>=18.5 in /usr/local/lib/python3.7/dist-packages (from ipython->myst-nb~=0.13.1->jupyter-book->-r love/requirements.txt (line 3)) (57.4.0)\n",
            "Requirement already satisfied: pexpect in /usr/local/lib/python3.7/dist-packages (from ipython->myst-nb~=0.13.1->jupyter-book->-r love/requirements.txt (line 3)) (4.8.0)\n",
            "Requirement already satisfied: simplegeneric>0.8 in /usr/local/lib/python3.7/dist-packages (from ipython->myst-nb~=0.13.1->jupyter-book->-r love/requirements.txt (line 3)) (0.8.1)\n",
            "Requirement already satisfied: prompt-toolkit<2.0.0,>=1.0.4 in /usr/local/lib/python3.7/dist-packages (from ipython->myst-nb~=0.13.1->jupyter-book->-r love/requirements.txt (line 3)) (1.0.18)\n",
            "Requirement already satisfied: pygments in /usr/local/lib/python3.7/dist-packages (from ipython->myst-nb~=0.13.1->jupyter-book->-r love/requirements.txt (line 3)) (2.6.1)\n",
            "Requirement already satisfied: nbclient<0.6,>=0.2 in /usr/local/lib/python3.7/dist-packages (from jupyter-cache~=0.4.1->myst-nb~=0.13.1->jupyter-book->-r love/requirements.txt (line 3)) (0.5.5)\n",
            "Requirement already satisfied: sqlalchemy<1.5,>=1.3.12 in /usr/local/lib/python3.7/dist-packages (from jupyter-cache~=0.4.1->myst-nb~=0.13.1->jupyter-book->-r love/requirements.txt (line 3)) (1.4.26)\n",
            "Collecting nbdime\n",
            "  Downloading nbdime-3.1.1-py2.py3-none-any.whl (5.3 MB)\n",
            "\u001b[K     |████████████████████████████████| 5.3 MB 44.6 MB/s \n",
            "\u001b[?25hRequirement already satisfied: jinja2 in /usr/local/lib/python3.7/dist-packages (from myst-parser~=0.15.2->myst-nb~=0.13.1->jupyter-book->-r love/requirements.txt (line 3)) (2.11.3)\n",
            "Collecting jupyter-client\n",
            "  Downloading jupyter_client-7.0.6-py3-none-any.whl (125 kB)\n",
            "\u001b[K     |████████████████████████████████| 125 kB 58.1 MB/s \n",
            "\u001b[?25hRequirement already satisfied: nest-asyncio in /usr/local/lib/python3.7/dist-packages (from nbclient<0.6,>=0.2->jupyter-cache~=0.4.1->myst-nb~=0.13.1->jupyter-book->-r love/requirements.txt (line 3)) (1.5.1)\n",
            "Requirement already satisfied: entrypoints in /usr/local/lib/python3.7/dist-packages (from jupyter-client->ipykernel>=4.5.1->ipywidgets<8,>=7.0.0->myst-nb~=0.13.1->jupyter-book->-r love/requirements.txt (line 3)) (0.3)\n",
            "Requirement already satisfied: python-dateutil>=2.1 in /usr/local/lib/python3.7/dist-packages (from jupyter-client->ipykernel>=4.5.1->ipywidgets<8,>=7.0.0->myst-nb~=0.13.1->jupyter-book->-r love/requirements.txt (line 3)) (2.8.2)\n",
            "Requirement already satisfied: jupyter-core>=4.6.0 in /usr/local/lib/python3.7/dist-packages (from jupyter-client->ipykernel>=4.5.1->ipywidgets<8,>=7.0.0->myst-nb~=0.13.1->jupyter-book->-r love/requirements.txt (line 3)) (4.9.1)\n",
            "Requirement already satisfied: pyzmq>=13 in /usr/local/lib/python3.7/dist-packages (from jupyter-client->ipykernel>=4.5.1->ipywidgets<8,>=7.0.0->myst-nb~=0.13.1->jupyter-book->-r love/requirements.txt (line 3)) (22.3.0)\n",
            "Requirement already satisfied: mistune<2,>=0.8.1 in /usr/local/lib/python3.7/dist-packages (from nbconvert<7,>=5.6->myst-nb~=0.13.1->jupyter-book->-r love/requirements.txt (line 3)) (0.8.4)\n",
            "Requirement already satisfied: bleach in /usr/local/lib/python3.7/dist-packages (from nbconvert<7,>=5.6->myst-nb~=0.13.1->jupyter-book->-r love/requirements.txt (line 3)) (4.1.0)\n",
            "Requirement already satisfied: pandocfilters>=1.4.1 in /usr/local/lib/python3.7/dist-packages (from nbconvert<7,>=5.6->myst-nb~=0.13.1->jupyter-book->-r love/requirements.txt (line 3)) (1.5.0)\n",
            "Requirement already satisfied: testpath in /usr/local/lib/python3.7/dist-packages (from nbconvert<7,>=5.6->myst-nb~=0.13.1->jupyter-book->-r love/requirements.txt (line 3)) (0.5.0)\n",
            "Requirement already satisfied: defusedxml in /usr/local/lib/python3.7/dist-packages (from nbconvert<7,>=5.6->myst-nb~=0.13.1->jupyter-book->-r love/requirements.txt (line 3)) (0.7.1)\n",
            "Requirement already satisfied: MarkupSafe>=0.23 in /usr/local/lib/python3.7/dist-packages (from jinja2->myst-parser~=0.15.2->myst-nb~=0.13.1->jupyter-book->-r love/requirements.txt (line 3)) (2.0.1)\n",
            "Requirement already satisfied: six>=1.9.0 in /usr/local/lib/python3.7/dist-packages (from prompt-toolkit<2.0.0,>=1.0.4->ipython->myst-nb~=0.13.1->jupyter-book->-r love/requirements.txt (line 3)) (1.15.0)\n",
            "Requirement already satisfied: wcwidth in /usr/local/lib/python3.7/dist-packages (from prompt-toolkit<2.0.0,>=1.0.4->ipython->myst-nb~=0.13.1->jupyter-book->-r love/requirements.txt (line 3)) (0.2.5)\n",
            "Collecting sphinxcontrib-applehelp\n",
            "  Downloading sphinxcontrib_applehelp-1.0.2-py2.py3-none-any.whl (121 kB)\n",
            "\u001b[K     |████████████████████████████████| 121 kB 58.4 MB/s \n",
            "\u001b[?25hRequirement already satisfied: sphinxcontrib-serializinghtml>=1.1.5 in /usr/local/lib/python3.7/dist-packages (from sphinx<5,>=3->jupyter-book->-r love/requirements.txt (line 3)) (1.1.5)\n",
            "Collecting sphinxcontrib-htmlhelp>=2.0.0\n",
            "  Downloading sphinxcontrib_htmlhelp-2.0.0-py2.py3-none-any.whl (100 kB)\n",
            "\u001b[K     |████████████████████████████████| 100 kB 9.5 MB/s \n",
            "\u001b[?25hRequirement already satisfied: imagesize in /usr/local/lib/python3.7/dist-packages (from sphinx<5,>=3->jupyter-book->-r love/requirements.txt (line 3)) (1.3.0)\n",
            "Collecting sphinxcontrib-qthelp\n",
            "  Downloading sphinxcontrib_qthelp-1.0.3-py2.py3-none-any.whl (90 kB)\n",
            "\u001b[K     |████████████████████████████████| 90 kB 8.5 MB/s \n",
            "\u001b[?25hRequirement already satisfied: alabaster<0.8,>=0.7 in /usr/local/lib/python3.7/dist-packages (from sphinx<5,>=3->jupyter-book->-r love/requirements.txt (line 3)) (0.7.12)\n",
            "Collecting sphinxcontrib-devhelp\n",
            "  Downloading sphinxcontrib_devhelp-1.0.2-py2.py3-none-any.whl (84 kB)\n",
            "\u001b[K     |████████████████████████████████| 84 kB 2.9 MB/s \n",
            "\u001b[?25hRequirement already satisfied: requests>=2.5.0 in /usr/local/lib/python3.7/dist-packages (from sphinx<5,>=3->jupyter-book->-r love/requirements.txt (line 3)) (2.23.0)\n",
            "Requirement already satisfied: babel>=1.3 in /usr/local/lib/python3.7/dist-packages (from sphinx<5,>=3->jupyter-book->-r love/requirements.txt (line 3)) (2.9.1)\n",
            "Requirement already satisfied: packaging in /usr/local/lib/python3.7/dist-packages (from sphinx<5,>=3->jupyter-book->-r love/requirements.txt (line 3)) (21.2)\n",
            "Requirement already satisfied: snowballstemmer>=1.1 in /usr/local/lib/python3.7/dist-packages (from sphinx<5,>=3->jupyter-book->-r love/requirements.txt (line 3)) (2.1.0)\n",
            "Collecting sphinxcontrib-jsmath\n",
            "  Downloading sphinxcontrib_jsmath-1.0.1-py2.py3-none-any.whl (5.1 kB)\n",
            "Requirement already satisfied: pytz>=2015.7 in /usr/local/lib/python3.7/dist-packages (from babel>=1.3->sphinx<5,>=3->jupyter-book->-r love/requirements.txt (line 3)) (2018.9)\n",
            "Requirement already satisfied: idna<3,>=2.5 in /usr/local/lib/python3.7/dist-packages (from requests>=2.5.0->sphinx<5,>=3->jupyter-book->-r love/requirements.txt (line 3)) (2.10)\n",
            "Requirement already satisfied: chardet<4,>=3.0.2 in /usr/local/lib/python3.7/dist-packages (from requests>=2.5.0->sphinx<5,>=3->jupyter-book->-r love/requirements.txt (line 3)) (3.0.4)\n",
            "Requirement already satisfied: certifi>=2017.4.17 in /usr/local/lib/python3.7/dist-packages (from requests>=2.5.0->sphinx<5,>=3->jupyter-book->-r love/requirements.txt (line 3)) (2021.10.8)\n",
            "Collecting urllib3<2.0.0,>=1.25.8\n",
            "  Downloading urllib3-1.25.11-py2.py3-none-any.whl (127 kB)\n",
            "\u001b[K     |████████████████████████████████| 127 kB 60.9 MB/s \n",
            "\u001b[?25hCollecting pydata-sphinx-theme~=0.7.2\n",
            "  Downloading pydata_sphinx_theme-0.7.2-py3-none-any.whl (1.4 MB)\n",
            "\u001b[K     |████████████████████████████████| 1.4 MB 50.2 MB/s \n",
            "\u001b[?25hCollecting docutils<0.18,>=0.15\n",
            "  Downloading docutils-0.16-py2.py3-none-any.whl (548 kB)\n",
            "\u001b[K     |████████████████████████████████| 548 kB 64.7 MB/s \n",
            "\u001b[?25hRequirement already satisfied: beautifulsoup4<5,>=4.6.1 in /usr/local/lib/python3.7/dist-packages (from sphinx-book-theme~=0.1.4->jupyter-book->-r love/requirements.txt (line 3)) (4.6.3)\n",
            "Requirement already satisfied: importlib-resources in /usr/local/lib/python3.7/dist-packages (from sphinx-jupyterbook-latex~=0.4.3->jupyter-book->-r love/requirements.txt (line 3)) (5.4.0)\n",
            "Requirement already satisfied: wheel in /usr/local/lib/python3.7/dist-packages (from sphinx-togglebutton->jupyter-book->-r love/requirements.txt (line 3)) (0.37.0)\n",
            "Collecting pybtex-docutils>=1.0.0\n",
            "  Downloading pybtex_docutils-1.0.1-py3-none-any.whl (4.8 kB)\n",
            "Collecting pybtex>=0.20\n",
            "  Downloading pybtex-0.24.0-py2.py3-none-any.whl (561 kB)\n",
            "\u001b[K     |████████████████████████████████| 561 kB 58.5 MB/s \n",
            "\u001b[?25hCollecting latexcodec>=1.0.4\n",
            "  Downloading latexcodec-2.0.1-py2.py3-none-any.whl (18 kB)\n",
            "Requirement already satisfied: greenlet!=0.4.17 in /usr/local/lib/python3.7/dist-packages (from sqlalchemy<1.5,>=1.3.12->jupyter-cache~=0.4.1->myst-nb~=0.13.1->jupyter-book->-r love/requirements.txt (line 3)) (1.1.2)\n",
            "Requirement already satisfied: notebook>=4.4.1 in /usr/local/lib/python3.7/dist-packages (from widgetsnbextension~=3.5.0->ipywidgets<8,>=7.0.0->myst-nb~=0.13.1->jupyter-book->-r love/requirements.txt (line 3)) (5.3.1)\n",
            "Requirement already satisfied: terminado>=0.8.1 in /usr/local/lib/python3.7/dist-packages (from notebook>=4.4.1->widgetsnbextension~=3.5.0->ipywidgets<8,>=7.0.0->myst-nb~=0.13.1->jupyter-book->-r love/requirements.txt (line 3)) (0.12.1)\n",
            "Requirement already satisfied: Send2Trash in /usr/local/lib/python3.7/dist-packages (from notebook>=4.4.1->widgetsnbextension~=3.5.0->ipywidgets<8,>=7.0.0->myst-nb~=0.13.1->jupyter-book->-r love/requirements.txt (line 3)) (1.8.0)\n",
            "Requirement already satisfied: ptyprocess in /usr/local/lib/python3.7/dist-packages (from terminado>=0.8.1->notebook>=4.4.1->widgetsnbextension~=3.5.0->ipywidgets<8,>=7.0.0->myst-nb~=0.13.1->jupyter-book->-r love/requirements.txt (line 3)) (0.7.0)\n",
            "Requirement already satisfied: webencodings in /usr/local/lib/python3.7/dist-packages (from bleach->nbconvert<7,>=5.6->myst-nb~=0.13.1->jupyter-book->-r love/requirements.txt (line 3)) (0.5.1)\n",
            "Collecting GitPython!=2.1.4,!=2.1.5,!=2.1.6\n",
            "  Downloading GitPython-3.1.24-py3-none-any.whl (180 kB)\n",
            "\u001b[K     |████████████████████████████████| 180 kB 56.3 MB/s \n",
            "\u001b[?25hCollecting jupyter-server\n",
            "  Downloading jupyter_server-1.11.2-py3-none-any.whl (394 kB)\n",
            "\u001b[K     |████████████████████████████████| 394 kB 61.3 MB/s \n",
            "\u001b[?25hCollecting jupyter-server-mathjax>=0.2.2\n",
            "  Downloading jupyter_server_mathjax-0.2.3-py3-none-any.whl (3.1 MB)\n",
            "\u001b[K     |████████████████████████████████| 3.1 MB 53.7 MB/s \n",
            "\u001b[?25hCollecting colorama\n",
            "  Downloading colorama-0.4.4-py2.py3-none-any.whl (16 kB)\n",
            "Collecting gitdb<5,>=4.0.1\n",
            "  Downloading gitdb-4.0.9-py3-none-any.whl (63 kB)\n",
            "\u001b[K     |████████████████████████████████| 63 kB 1.7 MB/s \n",
            "\u001b[?25hCollecting smmap<6,>=3.0.1\n",
            "  Downloading smmap-5.0.0-py3-none-any.whl (24 kB)\n",
            "Collecting anyio<4,>=3.1.0\n",
            "  Downloading anyio-3.3.4-py3-none-any.whl (78 kB)\n",
            "\u001b[K     |████████████████████████████████| 78 kB 5.9 MB/s \n",
            "\u001b[?25hCollecting websocket-client\n",
            "  Downloading websocket_client-1.2.1-py2.py3-none-any.whl (52 kB)\n",
            "\u001b[K     |████████████████████████████████| 52 kB 1.4 MB/s \n",
            "\u001b[?25hCollecting tornado>=4.0\n",
            "  Downloading tornado-6.1-cp37-cp37m-manylinux2010_x86_64.whl (428 kB)\n",
            "\u001b[K     |████████████████████████████████| 428 kB 59.3 MB/s \n",
            "\u001b[?25hRequirement already satisfied: argon2-cffi in /usr/local/lib/python3.7/dist-packages (from jupyter-server->nbdime->jupyter-cache~=0.4.1->myst-nb~=0.13.1->jupyter-book->-r love/requirements.txt (line 3)) (21.1.0)\n",
            "Requirement already satisfied: prometheus-client in /usr/local/lib/python3.7/dist-packages (from jupyter-server->nbdime->jupyter-cache~=0.4.1->myst-nb~=0.13.1->jupyter-book->-r love/requirements.txt (line 3)) (0.12.0)\n",
            "Collecting sniffio>=1.1\n",
            "  Downloading sniffio-1.2.0-py3-none-any.whl (10 kB)\n",
            "Requirement already satisfied: cffi>=1.0.0 in /usr/local/lib/python3.7/dist-packages (from argon2-cffi->jupyter-server->nbdime->jupyter-cache~=0.4.1->myst-nb~=0.13.1->jupyter-book->-r love/requirements.txt (line 3)) (1.15.0)\n",
            "Requirement already satisfied: pycparser in /usr/local/lib/python3.7/dist-packages (from cffi>=1.0.0->argon2-cffi->jupyter-server->nbdime->jupyter-cache~=0.4.1->myst-nb~=0.13.1->jupyter-book->-r love/requirements.txt (line 3)) (2.21)\n",
            "Requirement already satisfied: pyparsing<3,>=2.0.2 in /usr/local/lib/python3.7/dist-packages (from packaging->sphinx<5,>=3->jupyter-book->-r love/requirements.txt (line 3)) (2.4.7)\n",
            "Building wheels for collected packages: jieba3k\n",
            "  Building wheel for jieba3k (setup.py) ... \u001b[?25l\u001b[?25hdone\n",
            "  Created wheel for jieba3k: filename=jieba3k-0.35.1-py3-none-any.whl size=7398405 sha256=204eb830c357c69d6153671399876cd4c104d7caaec44f9c1104aee8e3e9ac65\n",
            "  Stored in directory: /root/.cache/pip/wheels/4c/91/46/3c208287b726df325a5979574324878b679116e4baae1af3c3\n",
            "Successfully built jieba3k\n",
            "Installing collected packages: tornado, sniffio, jupyter-client, websocket-client, smmap, anyio, urllib3, jupyter-server, gitdb, sphinxcontrib-qthelp, sphinxcontrib-jsmath, sphinxcontrib-htmlhelp, sphinxcontrib-devhelp, sphinxcontrib-applehelp, markdown-it-py, latexcodec, jupyter-server-mathjax, GitPython, docutils, colorama, sphinx, pybtex, nbdime, mdit-py-plugins, uc-micro-py, sphinx-togglebutton, pydata-sphinx-theme, pybtex-docutils, myst-parser, jupyter-sphinx, jupyter-cache, websockets, sphinxcontrib-bibtex, sphinx-thebe, sphinx-panels, sphinx-multitoc-numbering, sphinx-jupyterbook-latex, sphinx-external-toc, sphinx-copybutton, sphinx-comments, sphinx-book-theme, pyee, myst-nb, linkify-it-py, jupytext, pyppeteer, jupyter-book, jieba3k\n",
            "  Attempting uninstall: tornado\n",
            "    Found existing installation: tornado 5.1.1\n",
            "    Uninstalling tornado-5.1.1:\n",
            "      Successfully uninstalled tornado-5.1.1\n",
            "  Attempting uninstall: jupyter-client\n",
            "    Found existing installation: jupyter-client 5.3.5\n",
            "    Uninstalling jupyter-client-5.3.5:\n",
            "      Successfully uninstalled jupyter-client-5.3.5\n",
            "  Attempting uninstall: urllib3\n",
            "    Found existing installation: urllib3 1.24.3\n",
            "    Uninstalling urllib3-1.24.3:\n",
            "      Successfully uninstalled urllib3-1.24.3\n",
            "  Attempting uninstall: docutils\n",
            "    Found existing installation: docutils 0.18\n",
            "    Uninstalling docutils-0.18:\n",
            "      Successfully uninstalled docutils-0.18\n",
            "  Attempting uninstall: sphinx\n",
            "    Found existing installation: Sphinx 1.8.5\n",
            "    Uninstalling Sphinx-1.8.5:\n",
            "      Successfully uninstalled Sphinx-1.8.5\n",
            "\u001b[31mERROR: pip's dependency resolver does not currently take into account all the packages that are installed. This behaviour is the source of the following dependency conflicts.\n",
            "google-colab 1.0.0 requires tornado~=5.1.0; python_version >= \"3.0\", but you have tornado 6.1 which is incompatible.\n",
            "datascience 0.10.6 requires folium==0.2.1, but you have folium 0.8.3 which is incompatible.\u001b[0m\n",
            "Successfully installed GitPython-3.1.24 anyio-3.3.4 colorama-0.4.4 docutils-0.16 gitdb-4.0.9 jieba3k-0.35.1 jupyter-book-0.12.0 jupyter-cache-0.4.3 jupyter-client-7.0.6 jupyter-server-1.11.2 jupyter-server-mathjax-0.2.3 jupyter-sphinx-0.3.2 jupytext-1.11.5 latexcodec-2.0.1 linkify-it-py-1.0.2 markdown-it-py-1.1.0 mdit-py-plugins-0.2.8 myst-nb-0.13.1 myst-parser-0.15.2 nbdime-3.1.1 pybtex-0.24.0 pybtex-docutils-1.0.1 pydata-sphinx-theme-0.7.2 pyee-8.2.2 pyppeteer-0.2.6 smmap-5.0.0 sniffio-1.2.0 sphinx-4.3.0 sphinx-book-theme-0.1.7 sphinx-comments-0.0.3 sphinx-copybutton-0.4.0 sphinx-external-toc-0.2.3 sphinx-jupyterbook-latex-0.4.6 sphinx-multitoc-numbering-0.1.3 sphinx-panels-0.6.0 sphinx-thebe-0.0.10 sphinx-togglebutton-0.2.3 sphinxcontrib-applehelp-1.0.2 sphinxcontrib-bibtex-2.2.1 sphinxcontrib-devhelp-1.0.2 sphinxcontrib-htmlhelp-2.0.0 sphinxcontrib-jsmath-1.0.1 sphinxcontrib-qthelp-1.0.3 tornado-6.1 uc-micro-py-1.0.1 urllib3-1.25.11 websocket-client-1.2.1 websockets-9.1\n"
          ]
        },
        {
          "output_type": "display_data",
          "data": {
            "application/vnd.colab-display-data+json": {
              "pip_warning": {
                "packages": [
                  "jupyter_client",
                  "sphinxcontrib",
                  "tornado"
                ]
              }
            }
          },
          "metadata": {}
        }
      ]
    },
    {
      "cell_type": "code",
      "metadata": {
        "colab": {
          "base_uri": "https://localhost:8080/"
        },
        "id": "PU8OjO9s-kxf",
        "outputId": "310e307a-5406-4352-a508-b82b0164e5f1"
      },
      "source": [
        "%cd love/"
      ],
      "execution_count": 2,
      "outputs": [
        {
          "output_type": "stream",
          "name": "stdout",
          "text": [
            "/content/love\n"
          ]
        }
      ]
    },
    {
      "cell_type": "code",
      "metadata": {
        "colab": {
          "base_uri": "https://localhost:8080/"
        },
        "id": "qxr8n6rJ_Fz5",
        "outputId": "5415b49c-6bd5-441d-d6a7-5570289c870b"
      },
      "source": [
        "!. buildpdf.sh"
      ],
      "execution_count": 19,
      "outputs": [
        {
          "output_type": "stream",
          "name": "stdout",
          "text": [
            "\u001b[32m\u001b[1mRunning Jupyter-Book v0.12.0\u001b[0m\n",
            "\u001b[34m\u001b[1mSource Folder: \u001b[0m/content/love/src\n",
            "\u001b[34m\u001b[1mConfig Path: \u001b[0m/content/love/src/_config.yml\n",
            "\u001b[34m\u001b[1mOutput Path: \u001b[0m_build/html\n",
            "\u001b[01mRunning Sphinx v4.3.0\u001b[39;49;00m\n",
            "\u001b[01mloading translations [zh_CN]... \u001b[39;49;00mdone\n",
            "\u001b[01mloading pickled environment... \u001b[39;49;00mdone\n",
            "\u001b[01mmyst v0.15.2:\u001b[39;49;00m MdParserConfig(renderer='sphinx', commonmark_only=False, enable_extensions=['colon_fence', 'dollarmath', 'linkify', 'substitution', 'tasklist'], dmath_allow_labels=True, dmath_allow_space=True, dmath_allow_digits=True, dmath_double_inline=False, update_mathjax=True, mathjax_classes='tex2jax_process|mathjax_process|math|output_area', disable_syntax=[], url_schemes=['mailto', 'http', 'https'], heading_anchors=None, heading_slug_func=None, html_meta=[], footnote_transition=True, substitutions=[], sub_delimiters=['{', '}'], words_per_minute=200)\n",
            "\u001b[01mbuilding [mo]: \u001b[39;49;00mtargets for 0 po files that are out of date\n",
            "\u001b[01mbuilding [singlehtml]: \u001b[39;49;00mall documents\n",
            "\u001b[01mupdating environment: \u001b[39;49;00m0 added, 0 changed, 0 removed\n",
            "\u001b[01mlooking for now-outdated files... \u001b[39;49;00mnone found\n",
            "\u001b[01mpreparing documents... \u001b[39;49;00mdone\n",
            "\u001b[01massembling single document... \u001b[39;49;00m\u001b[32mxu\u001b[39;49;00m \u001b[32mzi_xu\u001b[39;49;00m \u001b[32mclassic_poems/wu_jue/README\u001b[39;49;00m \u001b[32mclassic_poems/wu_jue/01\u001b[39;49;00m \u001b[32mclassic_poems/wu_jue/02\u001b[39;49;00m \u001b[32mclassic_poems/wu_jue/03\u001b[39;49;00m \u001b[32mclassic_poems/wu_jue/04\u001b[39;49;00m \u001b[32mclassic_poems/wu_jue/05\u001b[39;49;00m \u001b[32mclassic_poems/wu_jue/06\u001b[39;49;00m \u001b[32mclassic_poems/wu_jue/07\u001b[39;49;00m \u001b[32mclassic_poems/wu_jue/08\u001b[39;49;00m \u001b[32mclassic_poems/wu_jue/09\u001b[39;49;00m \u001b[32mclassic_poems/wu_jue/10\u001b[39;49;00m \u001b[32mclassic_poems/wu_jue/11\u001b[39;49;00m \u001b[32mclassic_poems/wu_jue/12\u001b[39;49;00m \u001b[32mclassic_poems/wu_jue/13\u001b[39;49;00m \u001b[32mclassic_poems/wu_jue/14\u001b[39;49;00m \u001b[32mclassic_poems/wu_jue/15\u001b[39;49;00m \u001b[32mclassic_poems/wu_jue/16\u001b[39;49;00m \u001b[32mclassic_poems/wu_jue/17\u001b[39;49;00m \u001b[32mclassic_poems/wu_jue/18\u001b[39;49;00m \u001b[32mclassic_poems/wu_jue/19\u001b[39;49;00m \u001b[32mclassic_poems/wu_jue/20\u001b[39;49;00m \u001b[32mclassic_poems/wu_jue/21\u001b[39;49;00m \u001b[32mclassic_poems/wu_jue/22\u001b[39;49;00m \u001b[32mclassic_poems/wu_jue/23\u001b[39;49;00m \u001b[32mclassic_poems/wu_jue/24\u001b[39;49;00m \u001b[32mclassic_poems/wu_jue/25\u001b[39;49;00m \u001b[32mclassic_poems/wu_jue/26\u001b[39;49;00m \u001b[32mclassic_poems/wu_jue/27\u001b[39;49;00m \u001b[32mclassic_poems/wu_jue/28\u001b[39;49;00m \u001b[32mclassic_poems/wu_jue/29\u001b[39;49;00m \u001b[32mclassic_poems/wu_jue/30\u001b[39;49;00m \u001b[32mclassic_poems/wu_jue/31\u001b[39;49;00m \u001b[32mclassic_poems/wu_jue/32\u001b[39;49;00m \u001b[32mclassic_poems/wu_jue/33\u001b[39;49;00m \u001b[32mclassic_poems/wu_lv/README\u001b[39;49;00m \u001b[32mclassic_poems/wu_lv/01\u001b[39;49;00m \u001b[32mclassic_poems/wu_lv/02\u001b[39;49;00m \u001b[32mclassic_poems/wu_lv/03\u001b[39;49;00m \u001b[32mclassic_poems/wu_lv/04\u001b[39;49;00m \u001b[32mclassic_poems/wu_lv/05\u001b[39;49;00m \u001b[32mclassic_poems/wu_lv/06\u001b[39;49;00m \u001b[32mclassic_poems/wu_lv/07\u001b[39;49;00m \u001b[32mclassic_poems/wu_lv/08\u001b[39;49;00m \u001b[32mclassic_poems/wu_lv/09\u001b[39;49;00m \u001b[32mclassic_poems/wu_lv/10\u001b[39;49;00m \u001b[32mclassic_poems/wu_lv/11\u001b[39;49;00m \u001b[32mclassic_poems/wu_lv/12\u001b[39;49;00m \u001b[32mclassic_poems/wu_lv/13\u001b[39;49;00m \u001b[32mclassic_poems/wu_lv/14\u001b[39;49;00m \u001b[32mclassic_poems/wu_lv/15\u001b[39;49;00m \u001b[32mclassic_poems/wu_lv/16\u001b[39;49;00m \u001b[32mclassic_poems/qi_jue/README\u001b[39;49;00m \u001b[32mclassic_poems/qi_jue/01\u001b[39;49;00m \u001b[32mclassic_poems/qi_jue/02\u001b[39;49;00m \u001b[32mclassic_poems/qi_jue/03\u001b[39;49;00m \u001b[32mclassic_poems/qi_jue/04\u001b[39;49;00m \u001b[32mclassic_poems/qi_jue/05\u001b[39;49;00m \u001b[32mclassic_poems/qi_jue/06\u001b[39;49;00m \u001b[32mclassic_poems/qi_jue/07\u001b[39;49;00m \u001b[32mclassic_poems/qi_jue/08\u001b[39;49;00m \u001b[32mclassic_poems/qi_jue/09\u001b[39;49;00m \u001b[32mclassic_poems/qi_jue/10\u001b[39;49;00m \u001b[32mclassic_poems/qi_jue/11\u001b[39;49;00m \u001b[32mclassic_poems/qi_jue/12\u001b[39;49;00m \u001b[32mclassic_poems/qi_jue/13\u001b[39;49;00m \u001b[32mclassic_poems/qi_jue/14\u001b[39;49;00m \u001b[32mclassic_poems/qi_jue/15\u001b[39;49;00m \u001b[32mclassic_poems/qi_jue/16\u001b[39;49;00m \u001b[32mclassic_poems/qi_jue/17\u001b[39;49;00m \u001b[32mclassic_poems/qi_jue/18\u001b[39;49;00m \u001b[32mclassic_poems/qi_jue/19\u001b[39;49;00m \u001b[32mclassic_poems/qi_jue/20\u001b[39;49;00m \u001b[32mclassic_poems/qi_jue/21\u001b[39;49;00m \u001b[32mclassic_poems/qi_jue/22\u001b[39;49;00m \u001b[32mclassic_poems/qi_jue/23\u001b[39;49;00m \u001b[32mclassic_poems/qi_jue/24\u001b[39;49;00m \u001b[32mclassic_poems/qi_jue/25\u001b[39;49;00m \u001b[32mclassic_poems/qi_jue/26\u001b[39;49;00m \u001b[32mclassic_poems/qi_jue/27\u001b[39;49;00m \u001b[32mclassic_poems/qi_jue/28\u001b[39;49;00m \u001b[32mclassic_poems/qi_jue/29\u001b[39;49;00m \u001b[32mclassic_poems/qi_jue/30\u001b[39;49;00m \u001b[32mclassic_poems/qi_jue/31\u001b[39;49;00m \u001b[32mclassic_poems/qi_jue/32\u001b[39;49;00m \u001b[32mclassic_poems/qi_lv/README\u001b[39;49;00m \u001b[32mclassic_poems/qi_lv/01\u001b[39;49;00m \u001b[32mclassic_poems/qi_lv/02\u001b[39;49;00m \u001b[32mclassic_poems/qi_lv/03\u001b[39;49;00m \u001b[32mclassic_poems/qi_lv/04\u001b[39;49;00m \u001b[32mclassic_poems/qi_lv/05\u001b[39;49;00m \u001b[32mclassic_poems/qi_lv/06\u001b[39;49;00m \u001b[32mclassic_poems/qi_lv/07\u001b[39;49;00m \u001b[32mclassic_poems/qi_lv/08\u001b[39;49;00m \u001b[32mclassic_poems/qi_lv/09\u001b[39;49;00m \u001b[32mclassic_poems/qi_lv/10\u001b[39;49;00m \u001b[32mclassic_poems/qi_lv/11\u001b[39;49;00m \u001b[32mclassic_poems/qi_lv/12\u001b[39;49;00m \u001b[32mclassic_poems/qi_lv/13\u001b[39;49;00m \u001b[32mclassic_poems/qi_lv/14\u001b[39;49;00m \u001b[32mclassic_poems/qi_lv/15\u001b[39;49;00m \u001b[32mclassic_poems/qi_lv/16\u001b[39;49;00m \u001b[32mclassic_poems/ci_ling/README\u001b[39;49;00m \u001b[32mclassic_poems/ci_ling/01\u001b[39;49;00m \u001b[32mclassic_poems/ci_ling/02\u001b[39;49;00m \u001b[32mclassic_poems/ci_ling/03\u001b[39;49;00m \u001b[32mclassic_poems/ci_ling/04\u001b[39;49;00m \u001b[32mclassic_poems/ci_ling/05\u001b[39;49;00m \u001b[32mclassic_poems/ci_ling/06\u001b[39;49;00m \u001b[32mclassic_poems/ci_ling/07\u001b[39;49;00m \u001b[32mclassic_poems/ci_ling/08\u001b[39;49;00m \u001b[32mclassic_poems/ci_ling/09\u001b[39;49;00m \u001b[32mclassic_poems/ci_ling/10\u001b[39;49;00m \u001b[32mclassic_poems/ci_ling/11\u001b[39;49;00m \u001b[32mclassic_poems/ci_ling/12\u001b[39;49;00m \u001b[32mtranslate/README\u001b[39;49;00m \u001b[32mtranslate/01\u001b[39;49;00m \u001b[32mtranslate/02\u001b[39;49;00m \u001b[32mtranslate/03\u001b[39;49;00m \u001b[32mtranslate/04\u001b[39;49;00m \u001b[32mtranslate/05\u001b[39;49;00m \u001b[32mtranslate/06\u001b[39;49;00m \u001b[32mclassic_poems/other/README\u001b[39;49;00m \u001b[32mclassic_poems/other/01\u001b[39;49;00m \u001b[32mclassic_poems/other/02\u001b[39;49;00m \u001b[32mclassic_poems/other/03\u001b[39;49;00m \u001b[32mclassic_poems/other/04\u001b[39;49;00m \u001b[32mclassic_poems/other/05\u001b[39;49;00m \u001b[32mclassic_poems/other/06\u001b[39;49;00m \u001b[32mclassic_poems/other/07\u001b[39;49;00m \u001b[32mclassic_poems/other/08\u001b[39;49;00m \u001b[32mclassic_poems/other/09\u001b[39;49;00m \u001b[32mclassic_poems/other/10\u001b[39;49;00m \u001b[32mclassic_poems/other/11\u001b[39;49;00m \u001b[32mclassic_poems/other/12\u001b[39;49;00m \u001b[32mclassic_poems/other/13\u001b[39;49;00m \u001b[32mclassic_poems/other/14\u001b[39;49;00m \u001b[32mclassic_poems/other/15\u001b[39;49;00m \u001b[32mclassic_poems/other/16\u001b[39;49;00m \u001b[32mclassic_poems/other/17\u001b[39;49;00m \u001b[32mclassic_poems/other/18\u001b[39;49;00m \u001b[32mclassic_poems/other/19\u001b[39;49;00m \u001b[32mclassic_poems/other/20\u001b[39;49;00m \u001b[32mclassic_poems/other/21\u001b[39;49;00m \u001b[32mclassic_poems/other/22\u001b[39;49;00m \u001b[32mclassic_poems/other/23\u001b[39;49;00m \u001b[32mclassic_poems/other/24\u001b[39;49;00m \u001b[32mclassic_poems/other/25\u001b[39;49;00m \u001b[32mclassic_poems/other/26\u001b[39;49;00m \u001b[32mclassic_poems/other/27\u001b[39;49;00m \u001b[32mclassic_poems/other/28\u001b[39;49;00m \u001b[32mclassic_poems/other/29\u001b[39;49;00m \u001b[32mclassic_poems/other/30\u001b[39;49;00m \u001b[32mclassic_poems/other/31\u001b[39;49;00m \u001b[32mclassic_poems/other/32\u001b[39;49;00m \u001b[32mclassic_poems/other/33\u001b[39;49;00m \u001b[32mclassic_poems/other/34\u001b[39;49;00m \u001b[32mclassic_poems/other/35\u001b[39;49;00m \u001b[32mclassic_poems/other/36\u001b[39;49;00m \u001b[32mclassic_poems/other/37\u001b[39;49;00m \u001b[32mclassic_poems/other/38\u001b[39;49;00m \u001b[32mmodern_poems/nature/README\u001b[39;49;00m \u001b[32mmodern_poems/nature/01\u001b[39;49;00m \u001b[32mmodern_poems/nature/02\u001b[39;49;00m \u001b[32mmodern_poems/nature/03\u001b[39;49;00m \u001b[32mmodern_poems/nature/04\u001b[39;49;00m \u001b[32mmodern_poems/nature/05\u001b[39;49;00m \u001b[32mmodern_poems/nature/06\u001b[39;49;00m \u001b[32mmodern_poems/nature/07\u001b[39;49;00m \u001b[32mmodern_poems/nature/08\u001b[39;49;00m \u001b[32mmodern_poems/nature/09\u001b[39;49;00m \u001b[32mmodern_poems/nature/10\u001b[39;49;00m \u001b[32mmodern_poems/nature/11\u001b[39;49;00m \u001b[32mmodern_poems/solitude/README\u001b[39;49;00m \u001b[32mmodern_poems/solitude/01\u001b[39;49;00m \u001b[32mmodern_poems/solitude/02\u001b[39;49;00m \u001b[32mmodern_poems/solitude/03\u001b[39;49;00m \u001b[32mmodern_poems/solitude/04\u001b[39;49;00m \u001b[32mmodern_poems/solitude/05\u001b[39;49;00m \u001b[32mmodern_poems/solitude/06\u001b[39;49;00m \u001b[32mmodern_poems/solitude/07\u001b[39;49;00m \u001b[32mmodern_poems/solitude/08\u001b[39;49;00m \u001b[32mmodern_poems/solitude/09\u001b[39;49;00m \u001b[32mmodern_poems/solitude/10\u001b[39;49;00m \u001b[32mmodern_poems/solitude/11\u001b[39;49;00m \u001b[32mmodern_poems/solitude/12\u001b[39;49;00m \u001b[32mmodern_poems/solitude/13\u001b[39;49;00m \u001b[32mmodern_poems/solitude/14\u001b[39;49;00m \u001b[32mmodern_poems/solitude/15\u001b[39;49;00m \u001b[32mmodern_poems/solitude/16\u001b[39;49;00m \u001b[32mmodern_poems/wisdom/README\u001b[39;49;00m \u001b[32mmodern_poems/wisdom/01\u001b[39;49;00m \u001b[32mmodern_poems/wisdom/02\u001b[39;49;00m \u001b[32mmodern_poems/wisdom/03\u001b[39;49;00m \u001b[32mmodern_poems/wisdom/04\u001b[39;49;00m \u001b[32mmodern_poems/wisdom/05\u001b[39;49;00m \u001b[32mmodern_poems/wisdom/06\u001b[39;49;00m \u001b[32mmodern_poems/wisdom/07\u001b[39;49;00m \u001b[32mmodern_poems/wisdom/08\u001b[39;49;00m \u001b[32mmodern_poems/wisdom/09\u001b[39;49;00m \u001b[32mmodern_poems/wisdom/10\u001b[39;49;00m \u001b[32mmodern_poems/wisdom/11\u001b[39;49;00m \u001b[32mmodern_poems/wisdom/12\u001b[39;49;00m \u001b[32mmodern_poems/homesick/README\u001b[39;49;00m \u001b[32mmodern_poems/homesick/01\u001b[39;49;00m \u001b[32mmodern_poems/homesick/02\u001b[39;49;00m \u001b[32mmodern_poems/homesick/03\u001b[39;49;00m \u001b[32mmodern_poems/homesick/04\u001b[39;49;00m \u001b[32mmodern_poems/homesick/05\u001b[39;49;00m \u001b[32mmodern_poems/love/README\u001b[39;49;00m \u001b[32mmodern_poems/love/01\u001b[39;49;00m \u001b[32mmodern_poems/love/02\u001b[39;49;00m \u001b[32mmodern_poems/love/03\u001b[39;49;00m \u001b[32mmodern_poems/love/04\u001b[39;49;00m \u001b[32mmodern_poems/love/05\u001b[39;49;00m \u001b[32mmodern_poems/love/06\u001b[39;49;00m \u001b[32mmodern_poems/love/07\u001b[39;49;00m \u001b[32mmodern_poems/love/08\u001b[39;49;00m \u001b[32mmodern_poems/love/09\u001b[39;49;00m \u001b[32mmodern_poems/love/10\u001b[39;49;00m \u001b[32mmodern_poems/love/11\u001b[39;49;00m \u001b[32mmodern_poems/love/12\u001b[39;49;00m \u001b[32mmodern_poems/love/13\u001b[39;49;00m \u001b[32mmodern_poems/love/14\u001b[39;49;00m \u001b[32mmodern_poems/love/15\u001b[39;49;00m \u001b[32mmodern_poems/birthday/README\u001b[39;49;00m \u001b[32mmodern_poems/birthday/01\u001b[39;49;00m \u001b[32mmodern_poems/birthday/02\u001b[39;49;00m \u001b[32mmodern_poems/birthday/03\u001b[39;49;00m \u001b[32mmodern_poems/birthday/04\u001b[39;49;00m \u001b[32mmodern_poems/birthday/05\u001b[39;49;00m \u001b[32mmodern_poems/birthday/06\u001b[39;49;00m \u001b[32mmodern_poems/birthday/07\u001b[39;49;00m \u001b[32mmodern_poems/english/README\u001b[39;49;00m \u001b[32mmodern_poems/english/01\u001b[39;49;00m \u001b[32mmodern_poems/english/02\u001b[39;49;00m \u001b[32mmodern_poems/english/03\u001b[39;49;00m \u001b[32mmodern_poems/english/04\u001b[39;49;00m \u001b[32mmodern_poems/english/05\u001b[39;49;00m \u001b[32mmodern_poems/english/06\u001b[39;49;00m \u001b[32mmodern_poems/english/07\u001b[39;49;00m \u001b[32mmodern_poems/english/08\u001b[39;49;00m \u001b[32mmodern_poems/english/09\u001b[39;49;00m \u001b[32mproses/politics/README\u001b[39;49;00m \u001b[32mproses/politics/01\u001b[39;49;00m \u001b[32mproses/politics/02\u001b[39;49;00m \u001b[32mproses/politics/03\u001b[39;49;00m \u001b[32mproses/politics/04\u001b[39;49;00m \u001b[32mproses/politics/05\u001b[39;49;00m \u001b[32mproses/politics/06\u001b[39;49;00m \u001b[32mproses/politics/07\u001b[39;49;00m \u001b[32mproses/politics/08\u001b[39;49;00m \u001b[32mproses/politics/09\u001b[39;49;00m \u001b[32mproses/econ_tech/README\u001b[39;49;00m \u001b[32mproses/econ_tech/01\u001b[39;49;00m \u001b[32mproses/econ_tech/02\u001b[39;49;00m \u001b[32mproses/econ_tech/03\u001b[39;49;00m \u001b[32mproses/econ_tech/04\u001b[39;49;00m \u001b[32mproses/econ_tech/05\u001b[39;49;00m \u001b[32mproses/econ_tech/06\u001b[39;49;00m \u001b[32mproses/econ_tech/07\u001b[39;49;00m \u001b[32mproses/econ_tech/08\u001b[39;49;00m \u001b[32mproses/econ_tech/09\u001b[39;49;00m \u001b[32mproses/econ_tech/10\u001b[39;49;00m \u001b[32mproses/econ_tech/11\u001b[39;49;00m \u001b[32mproses/econ_tech/12\u001b[39;49;00m \u001b[32mproses/econ_tech/13\u001b[39;49;00m \u001b[32mproses/econ_tech/14\u001b[39;49;00m \u001b[32mproses/econ_tech/15\u001b[39;49;00m \u001b[32mproses/econ_tech/16\u001b[39;49;00m \u001b[32mproses/econ_tech/17\u001b[39;49;00m \u001b[32mproses/econ_tech/18\u001b[39;49;00m \u001b[32mproses/econ_tech/19\u001b[39;49;00m \u001b[32mproses/econ_tech/20\u001b[39;49;00m \u001b[32mproses/econ_tech/21\u001b[39;49;00m \u001b[32mproses/econ_tech/22\u001b[39;49;00m \u001b[32mproses/econ_tech/23\u001b[39;49;00m \u001b[32mproses/econ_tech/24\u001b[39;49;00m \u001b[32mproses/econ_tech/25\u001b[39;49;00m \u001b[32mproses/econ_tech/26\u001b[39;49;00m \u001b[32mproses/econ_tech/27\u001b[39;49;00m \u001b[32mproses/econ_tech/28\u001b[39;49;00m \u001b[32mproses/econ_tech/29\u001b[39;49;00m \u001b[32mproses/econ_tech/30\u001b[39;49;00m \u001b[32mproses/econ_tech/31\u001b[39;49;00m \u001b[32mproses/econ_tech/32\u001b[39;49;00m \u001b[32mproses/econ_tech/33\u001b[39;49;00m \u001b[32mproses/econ_tech/34\u001b[39;49;00m \u001b[32mproses/econ_tech/35\u001b[39;49;00m \u001b[32mproses/econ_tech/36\u001b[39;49;00m \u001b[32mproses/life/README\u001b[39;49;00m \u001b[32mproses/life/01\u001b[39;49;00m \u001b[32mproses/life/02\u001b[39;49;00m \u001b[32mproses/life/03\u001b[39;49;00m \u001b[32mproses/life/04\u001b[39;49;00m \u001b[32mproses/life/05\u001b[39;49;00m \u001b[32mproses/life/06\u001b[39;49;00m \u001b[32mproses/life/07\u001b[39;49;00m \u001b[32mproses/life/08\u001b[39;49;00m \u001b[32mproses/life/09\u001b[39;49;00m \u001b[32mproses/life/10\u001b[39;49;00m \u001b[32mproses/life/11\u001b[39;49;00m \u001b[32mproses/life/12\u001b[39;49;00m \u001b[32mproses/life/13\u001b[39;49;00m \u001b[32mproses/life/14\u001b[39;49;00m \u001b[32mproses/life/15\u001b[39;49;00m \u001b[32mproses/life/16\u001b[39;49;00m \u001b[32mproses/life/17\u001b[39;49;00m \u001b[32mproses/life/18\u001b[39;49;00m \u001b[32mproses/life/19\u001b[39;49;00m \u001b[32mproses/life/20\u001b[39;49;00m \u001b[32mproses/life/21\u001b[39;49;00m \u001b[32mproses/life/22\u001b[39;49;00m \u001b[32mproses/life/23\u001b[39;49;00m \u001b[32mproses/health/README\u001b[39;49;00m \u001b[32mproses/health/01\u001b[39;49;00m \u001b[32mproses/health/02\u001b[39;49;00m \u001b[32mproses/health/03\u001b[39;49;00m \u001b[32mproses/health/04\u001b[39;49;00m \u001b[32mproses/health/05\u001b[39;49;00m \u001b[32mproses/health/06\u001b[39;49;00m \u001b[32mproses/health/07\u001b[39;49;00m \u001b[32mproses/health/08\u001b[39;49;00m \u001b[32mproses/health/09\u001b[39;49;00m \u001b[32mproses/health/10\u001b[39;49;00m \u001b[32mproses/health/11\u001b[39;49;00m \u001b[32mproses/health/12\u001b[39;49;00m \u001b[32mproses/health/13\u001b[39;49;00m \u001b[32mproses/health/14\u001b[39;49;00m \u001b[32mproses/health/15\u001b[39;49;00m \u001b[32mproses/health/16\u001b[39;49;00m \u001b[32mproses/health/17\u001b[39;49;00m \u001b[32mproses/fun/README\u001b[39;49;00m \u001b[32mproses/fun/01\u001b[39;49;00m \u001b[32mproses/fun/02\u001b[39;49;00m \u001b[32mproses/fun/03\u001b[39;49;00m \u001b[32mproses/fun/04\u001b[39;49;00m \u001b[32mproses/fun/05\u001b[39;49;00m \u001b[32mproses/fun/06\u001b[39;49;00m \u001b[32mproses/fun/07\u001b[39;49;00m \u001b[32mproses/fun/08\u001b[39;49;00m \u001b[32mproses/fun/09\u001b[39;49;00m \u001b[32mproses/fun/10\u001b[39;49;00m \u001b[32mproses/fun/11\u001b[39;49;00m \u001b[32mproses/fun/12\u001b[39;49;00m \u001b[32mproses/fun/13\u001b[39;49;00m \u001b[32mproses/fun/14\u001b[39;49;00m \u001b[32mproses/fun/15\u001b[39;49;00m \u001b[32mproses/fun/16\u001b[39;49;00m \u001b[32mproses/fun/17\u001b[39;49;00m \u001b[32mproses/fun/18\u001b[39;49;00m \u001b[32mproses/fun/19\u001b[39;49;00m \u001b[32mproses/fun/20\u001b[39;49;00m \u001b[32mproses/fun/21\u001b[39;49;00m \u001b[32mproses/fun/22\u001b[39;49;00m \u001b[32mproses/fun/23\u001b[39;49;00m \u001b[32mproses/fun/24\u001b[39;49;00m \u001b[32mproses/fun/25\u001b[39;49;00m \u001b[32mproses/fun/26\u001b[39;49;00m \u001b[32mproses/fun/27\u001b[39;49;00m \u001b[32mproses/fun/28\u001b[39;49;00m \u001b[32mproses/fun/29\u001b[39;49;00m \u001b[32mproses/wisdom/README\u001b[39;49;00m \u001b[32mproses/wisdom/01\u001b[39;49;00m \u001b[32mproses/wisdom/02\u001b[39;49;00m \u001b[32mproses/wisdom/03\u001b[39;49;00m \u001b[32mproses/wisdom/04\u001b[39;49;00m \u001b[32mproses/wisdom/05\u001b[39;49;00m \u001b[32mproses/wisdom/06\u001b[39;49;00m \u001b[32mproses/wisdom/07\u001b[39;49;00m \u001b[32mproses/wisdom/08\u001b[39;49;00m \u001b[32mproses/wisdom/09\u001b[39;49;00m \u001b[32mproses/wisdom/10\u001b[39;49;00m \u001b[32mproses/wisdom/11\u001b[39;49;00m \u001b[32mproses/wisdom/12\u001b[39;49;00m \u001b[32mproses/wisdom/13\u001b[39;49;00m \u001b[32mproses/wisdom/14\u001b[39;49;00m \u001b[32mproses/wisdom/15\u001b[39;49;00m \u001b[32mproses/wisdom/16\u001b[39;49;00m \u001b[32mproses/wisdom/17\u001b[39;49;00m \u001b[32mproses/wisdom/18\u001b[39;49;00m \u001b[32mproses/wisdom/19\u001b[39;49;00m \u001b[32mproses/wisdom/20\u001b[39;49;00m \u001b[32mproses/wisdom/21\u001b[39;49;00m \u001b[32mproses/wisdom/22\u001b[39;49;00m \u001b[32mproses/wisdom/23\u001b[39;49;00m \u001b[32mproses/wisdom/24\u001b[39;49;00m \u001b[32mproses/wisdom/25\u001b[39;49;00m \u001b[32mproses/wisdom/26\u001b[39;49;00m \u001b[32mproses/wisdom/27\u001b[39;49;00m \u001b[32mproses/wisdom/28\u001b[39;49;00m \u001b[32mproses/wisdom/29\u001b[39;49;00m \u001b[32mproses/wisdom/30\u001b[39;49;00m \u001b[32mproses/wisdom/31\u001b[39;49;00m \u001b[32mproses/wisdom/32\u001b[39;49;00m \u001b[32mproses/wisdom/33\u001b[39;49;00m \u001b[32mproses/wisdom/34\u001b[39;49;00m \u001b[32mproses/wisdom/35\u001b[39;49;00m \u001b[32mproses/wisdom/36\u001b[39;49;00m \u001b[32mproses/wisdom/37\u001b[39;49;00m \u001b[32mproses/wisdom/38\u001b[39;49;00m \u001b[32mproses/wisdom/39\u001b[39;49;00m \u001b[32mproses/wisdom/40\u001b[39;49;00m \u001b[32mproses/wisdom/41\u001b[39;49;00m \u001b[32mproses/wisdom/42\u001b[39;49;00m \u001b[32mproses/wisdom/43\u001b[39;49;00m \u001b[32mproses/wisdom/44\u001b[39;49;00m \u001b[32mproses/wisdom/45\u001b[39;49;00m \u001b[32mproses/wisdom/46\u001b[39;49;00m \u001b[32mproses/wisdom/47\u001b[39;49;00m \u001b[32mproses/wisdom/48\u001b[39;49;00m \u001b[32mproses/wisdom/49\u001b[39;49;00m \u001b[32mproses/poetry/README\u001b[39;49;00m \u001b[32mproses/poetry/01\u001b[39;49;00m \u001b[32mproses/poetry/02\u001b[39;49;00m \u001b[32mproses/poetry/03\u001b[39;49;00m \u001b[32mproses/poetry/04\u001b[39;49;00m \u001b[32mproses/poetry/05\u001b[39;49;00m \u001b[32mproses/poetry/06\u001b[39;49;00m \u001b[32mproses/poetry/07\u001b[39;49;00m \u001b[32mproses/poetry/08\u001b[39;49;00m \u001b[32mproses/wordgame/README\u001b[39;49;00m \u001b[32mproses/wordgame/01\u001b[39;49;00m \u001b[32mproses/wordgame/02\u001b[39;49;00m \u001b[32mproses/wordgame/03\u001b[39;49;00m \u001b[32mproses/wordgame/04\u001b[39;49;00m \u001b[32mproses/wordgame/05\u001b[39;49;00m \u001b[32mproses/wordgame/06\u001b[39;49;00m \u001b[32mproses/wordgame/07\u001b[39;49;00m \u001b[32mproses/wordgame/08\u001b[39;49;00m \u001b[32mproses/wordgame/09\u001b[39;49;00m \u001b[32mproses/wordgame/10\u001b[39;49;00m \u001b[32mproses/wordgame/11\u001b[39;49;00m \u001b[32mproses/wordgame/12\u001b[39;49;00m \u001b[32mproses/wordgame/13\u001b[39;49;00m \u001b[32mproses/wordgame/14\u001b[39;49;00m \u001b[32mproses/wordgame/15\u001b[39;49;00m \u001b[32mproses/wordgame/16\u001b[39;49;00m \u001b[32mproses/wordgame/17\u001b[39;49;00m \u001b[32mproses/wordgame/18\u001b[39;49;00m \u001b[32mproses/wordgame/19\u001b[39;49;00m \u001b[32mproses/wordgame/20\u001b[39;49;00m \u001b[32mproses/wordgame/21\u001b[39;49;00m \u001b[32mproses/wordgame/22\u001b[39;49;00m \u001b[32mproses/wordgame/23\u001b[39;49;00m \u001b[32mproses/wordgame/24\u001b[39;49;00m \u001b[32mproses/wordgame/25\u001b[39;49;00m \u001b[32mproses/wordgame/26\u001b[39;49;00m \u001b[32mproses/wordgame/27\u001b[39;49;00m \u001b[32mproses/wordgame/28\u001b[39;49;00m \u001b[32mproses/english/README\u001b[39;49;00m \u001b[32mproses/english/01\u001b[39;49;00m \u001b[32mproses/english/02\u001b[39;49;00m \u001b[32mproses/english/03\u001b[39;49;00m \u001b[32mproses/english/04\u001b[39;49;00m \u001b[32mproses/english/05\u001b[39;49;00m \u001b[32mproses/english/06\u001b[39;49;00m \u001b[32mproses/english/07\u001b[39;49;00m \u001b[32mproses/english/08\u001b[39;49;00m \u001b[32mproses/english/09\u001b[39;49;00m \u001b[32mproses/english/10\u001b[39;49;00m \u001b[32mproses/english/11\u001b[39;49;00m \u001b[32mproses/english/12\u001b[39;49;00m \u001b[32mproses/english/13\u001b[39;49;00m \u001b[32mproses/english/14\u001b[39;49;00m \u001b[32mproses/english/15\u001b[39;49;00m \u001b[32mproses/english/16\u001b[39;49;00m \u001b[32mproses/english/17\u001b[39;49;00m \u001b[32mappendix/word_cloud\u001b[39;49;00m \u001b[32mappendix/ya_ge\u001b[39;49;00m \u001b[32mappendix/monkey\u001b[39;49;00m \u001b[32mappendix/yi_bo\u001b[39;49;00m \u001b[32mabout/summary\u001b[39;49;00m \u001b[32mabout/software\u001b[39;49;00m \u001b[32mabout/teaching\u001b[39;49;00m \u001b[32mabout/books\u001b[39;49;00m \u001b[32mabout/chapters\u001b[39;49;00m \u001b[32mabout/dissertation\u001b[39;49;00m \u001b[32mabout/papers\u001b[39;49;00m \u001b[32mabout/social\u001b[39;49;00m done\n",
            "\u001b[01mwriting... \u001b[39;49;00mBuilding prefix dict from /usr/local/lib/python3.7/dist-packages/jieba/dict.txt ...\n",
            "Loading model from cache /tmp/jieba.cache\n",
            "Loading model cost 1.1242384910583496 seconds.\n",
            "Prefix dict has been built succesfully.\n",
            "done\n",
            "\u001b[01mwriting additional files... \u001b[39;49;00mdone\n",
            "\u001b[01mcopying images... \u001b[39;49;00m[100%] \u001b[33mabout/jaywang200.png\u001b[39;49;00m\n",
            "\u001b[01mcopying static files... \u001b[39;49;00mdone\n",
            "\u001b[01mcopying extra files... \u001b[39;49;00mdone\n",
            "\u001b[01mdumping object inventory... \u001b[39;49;00mdone\n",
            "\u001b[01mbuild succeeded.\u001b[39;49;00m\n",
            "\n",
            "The HTML page is in _build/html.\n",
            "Finished generating HTML for book...\n",
            "Converting book HTML into PDF...\n",
            "Traceback (most recent call last):\n",
            "  File \"/usr/local/bin/jupyter-book\", line 8, in <module>\n",
            "    sys.exit(main())\n",
            "  File \"/usr/local/lib/python3.7/dist-packages/click/core.py\", line 829, in __call__\n",
            "    return self.main(*args, **kwargs)\n",
            "  File \"/usr/local/lib/python3.7/dist-packages/click/core.py\", line 782, in main\n",
            "    rv = self.invoke(ctx)\n",
            "  File \"/usr/local/lib/python3.7/dist-packages/click/core.py\", line 1259, in invoke\n",
            "    return _process_result(sub_ctx.command.invoke(sub_ctx))\n",
            "  File \"/usr/local/lib/python3.7/dist-packages/click/core.py\", line 1066, in invoke\n",
            "    return ctx.invoke(self.callback, **ctx.params)\n",
            "  File \"/usr/local/lib/python3.7/dist-packages/click/core.py\", line 610, in invoke\n",
            "    return callback(*args, **kwargs)\n",
            "  File \"/usr/local/lib/python3.7/dist-packages/jupyter_book/cli/main.py\", line 320, in build\n",
            "    result, builder, OUTPUT_PATH, build_type, PAGE_NAME, click.echo\n",
            "  File \"/usr/local/lib/python3.7/dist-packages/jupyter_book/cli/main.py\", line 569, in builder_specific_actions\n",
            "    html_to_pdf(output_path.joinpath(\"index.html\"), path_pdf_output)\n",
            "  File \"/usr/local/lib/python3.7/dist-packages/jupyter_book/pdf.py\", line 45, in html_to_pdf\n",
            "    asyncio.get_event_loop().run_until_complete(_html_to_pdf(html_file, pdf_file))\n",
            "  File \"/usr/lib/python3.7/asyncio/base_events.py\", line 587, in run_until_complete\n",
            "    return future.result()\n",
            "  File \"/usr/local/lib/python3.7/dist-packages/jupyter_book/pdf.py\", line 57, in _html_to_pdf\n",
            "    browser = await launch(args=[\"--no-sandbox\"])\n",
            "  File \"/usr/local/lib/python3.7/dist-packages/pyppeteer/launcher.py\", line 307, in launch\n",
            "    return await Launcher(options, **kwargs).launch()\n",
            "  File \"/usr/local/lib/python3.7/dist-packages/pyppeteer/launcher.py\", line 168, in launch\n",
            "    self.browserWSEndpoint = get_ws_endpoint(self.url)\n",
            "  File \"/usr/local/lib/python3.7/dist-packages/pyppeteer/launcher.py\", line 227, in get_ws_endpoint\n",
            "    raise BrowserError('Browser closed unexpectedly:\\n')\n",
            "pyppeteer.errors.BrowserError: Browser closed unexpectedly:\n",
            "\n",
            "cp: cannot stat '_build/pdf/book.pdf': No such file or directory\n"
          ]
        }
      ]
    },
    {
      "cell_type": "code",
      "metadata": {
        "id": "fqBaVYNXCAfs"
      },
      "source": [
        ""
      ],
      "execution_count": null,
      "outputs": []
    },
    {
      "cell_type": "code",
      "metadata": {
        "colab": {
          "base_uri": "https://localhost:8080/"
        },
        "id": "FH6_31lXBQ3E",
        "outputId": "43e32419-f672-4e31-8675-eac7b630b519"
      },
      "source": [
        "!uname -a"
      ],
      "execution_count": 23,
      "outputs": [
        {
          "output_type": "stream",
          "name": "stdout",
          "text": [
            "Linux 15576585ed02 5.4.104+ #1 SMP Sat Jun 5 09:50:34 PDT 2021 x86_64 x86_64 x86_64 GNU/Linux\n"
          ]
        }
      ]
    },
    {
      "cell_type": "code",
      "metadata": {
        "colab": {
          "base_uri": "https://localhost:8080/"
        },
        "id": "onl5DSB0_fix",
        "outputId": "f5ac7e87-3d13-45bf-a4a2-10632ef4d45c"
      },
      "source": [
        "!apt-get install  libgtk-3-0  gconf-service libasound2 libatk1.0-0 libatk-bridge2.0-0 libc6 libcairo2 libcups2 libdbus-1-3 libexpat1 libfontconfig1 libgcc1 libgconf-2-4 libgdk-pixbuf2.0-0 libglib2.0-0 libgtk-3-0 libnspr4 libpango-1.0-0 libpangocairo-1.0-0 libstdc++6 libx11-6 libx11-xcb1 libxcb1 libxcomposite1 libxcursor1 libxdamage1 libxext6 libxfixes3 libxi6 libxrandr2 libxrender1 libxss1 libxtst6 ca-certificates fonts-liberation libappindicator1 libnss3 lsb-release xdg-utils wget"
      ],
      "execution_count": 17,
      "outputs": [
        {
          "output_type": "stream",
          "name": "stdout",
          "text": [
            "Reading package lists... Done\n",
            "Building dependency tree       \n",
            "Reading state information... Done\n",
            "libatk-bridge2.0-0 is already the newest version (2.26.2-1).\n",
            "libatk1.0-0 is already the newest version (2.28.1-1).\n",
            "libfontconfig1 is already the newest version (2.12.6-0ubuntu2).\n",
            "libgdk-pixbuf2.0-0 is already the newest version (2.36.11-2).\n",
            "libnspr4 is already the newest version (2:4.18-1ubuntu1).\n",
            "libxcomposite1 is already the newest version (1:0.4.4-2).\n",
            "libxcursor1 is already the newest version (1:1.1.15-1).\n",
            "libxdamage1 is already the newest version (1:1.1.4-3).\n",
            "libxext6 is already the newest version (2:1.3.3-1).\n",
            "libxfixes3 is already the newest version (1:5.0.3-1).\n",
            "libxi6 is already the newest version (2:1.7.9-1).\n",
            "libxrandr2 is already the newest version (2:1.5.1-1).\n",
            "libxrender1 is already the newest version (1:0.9.10-1).\n",
            "libxss1 is already the newest version (1:1.2.2-1).\n",
            "libxtst6 is already the newest version (2:1.2.3-1).\n",
            "lsb-release is already the newest version (9.20170808ubuntu1).\n",
            "gconf-service is already the newest version (3.2.6-4ubuntu1).\n",
            "libgconf-2-4 is already the newest version (3.2.6-4ubuntu1).\n",
            "ca-certificates is already the newest version (20210119~18.04.2).\n",
            "fonts-liberation is already the newest version (1:1.07.4-7~18.04.1).\n",
            "libasound2 is already the newest version (1.1.3-5ubuntu0.6).\n",
            "libc6 is already the newest version (2.27-3ubuntu1.4).\n",
            "libcairo2 is already the newest version (1.15.10-2ubuntu0.1).\n",
            "libcups2 is already the newest version (2.2.7-1ubuntu2.8).\n",
            "libdbus-1-3 is already the newest version (1.12.2-1ubuntu1.2).\n",
            "libexpat1 is already the newest version (2.2.5-3ubuntu0.2).\n",
            "libgcc1 is already the newest version (1:8.4.0-1ubuntu1~18.04).\n",
            "libglib2.0-0 is already the newest version (2.56.4-0ubuntu0.18.04.8).\n",
            "libgtk-3-0 is already the newest version (3.22.30-1ubuntu4).\n",
            "libnss3 is already the newest version (2:3.35-2ubuntu2.12).\n",
            "libpango-1.0-0 is already the newest version (1.40.14-1ubuntu0.1).\n",
            "libpangocairo-1.0-0 is already the newest version (1.40.14-1ubuntu0.1).\n",
            "libstdc++6 is already the newest version (8.4.0-1ubuntu1~18.04).\n",
            "libx11-6 is already the newest version (2:1.6.4-3ubuntu0.4).\n",
            "libx11-xcb1 is already the newest version (2:1.6.4-3ubuntu0.4).\n",
            "libxcb1 is already the newest version (1.13-2~ubuntu18.04).\n",
            "wget is already the newest version (1.19.4-1ubuntu2.2).\n",
            "xdg-utils is already the newest version (1.1.2-1ubuntu2.5).\n",
            "libappindicator1 is already the newest version (12.10.1+18.04.20200408.1-0ubuntu1).\n",
            "0 upgraded, 0 newly installed, 0 to remove and 37 not upgraded.\n"
          ]
        }
      ]
    },
    {
      "cell_type": "code",
      "metadata": {
        "colab": {
          "base_uri": "https://localhost:8080/"
        },
        "id": "xFrvbn8cBxVa",
        "outputId": "d380c162-1e45-4133-959f-c3d5e5139383"
      },
      "source": [
        "!apt-get install  libgtk-3-0"
      ],
      "execution_count": 18,
      "outputs": [
        {
          "output_type": "stream",
          "name": "stdout",
          "text": [
            "Reading package lists... Done\n",
            "Building dependency tree       \n",
            "Reading state information... Done\n",
            "libgtk-3-0 is already the newest version (3.22.30-1ubuntu4).\n",
            "0 upgraded, 0 newly installed, 0 to remove and 37 not upgraded.\n"
          ]
        }
      ]
    },
    {
      "cell_type": "code",
      "metadata": {
        "colab": {
          "base_uri": "https://localhost:8080/"
        },
        "id": "AhP_na4ODXsF",
        "outputId": "248becbf-62d2-4322-a4b3-ee22c2a38981"
      },
      "source": [
        "!. build.sh"
      ],
      "execution_count": 24,
      "outputs": [
        {
          "output_type": "stream",
          "name": "stdout",
          "text": [
            "\u001b[32m\u001b[1mRunning Jupyter-Book v0.12.0\u001b[0m\n",
            "\u001b[34m\u001b[1mSource Folder: \u001b[0m/content/love/src\n",
            "\u001b[34m\u001b[1mConfig Path: \u001b[0m/content/love/src/_config.yml\n",
            "\u001b[34m\u001b[1mOutput Path: \u001b[0m_build/html\n",
            "\u001b[01mRunning Sphinx v4.3.0\u001b[39;49;00m\n",
            "\u001b[01mloading translations [zh_CN]... \u001b[39;49;00mdone\n",
            "\u001b[01mmaking output directory... \u001b[39;49;00mdone\n",
            "\u001b[01mmyst v0.15.2:\u001b[39;49;00m MdParserConfig(renderer='sphinx', commonmark_only=False, enable_extensions=['colon_fence', 'dollarmath', 'linkify', 'substitution', 'tasklist'], dmath_allow_labels=True, dmath_allow_space=True, dmath_allow_digits=True, dmath_double_inline=False, update_mathjax=True, mathjax_classes='tex2jax_process|mathjax_process|math|output_area', disable_syntax=[], url_schemes=['mailto', 'http', 'https'], heading_anchors=None, heading_slug_func=None, html_meta=[], footnote_transition=True, substitutions=[], sub_delimiters=['{', '}'], words_per_minute=200)\n",
            "\u001b[01mbuilding [mo]: \u001b[39;49;00mtargets for 0 po files that are out of date\n",
            "\u001b[01mbuilding [html]: \u001b[39;49;00mtargets for 482 source files that are out of date\n",
            "\u001b[01mupdating environment: \u001b[39;49;00m[new config] 482 added, 0 changed, 0 removed\n",
            "\u001b[01mreading sources... \u001b[39;49;00m[100%] \u001b[35mzi_xu\u001b[39;49;00m\n",
            "\u001b[01mlooking for now-outdated files... \u001b[39;49;00mnone found\n",
            "\u001b[01mpickling environment... \u001b[39;49;00mdone\n",
            "\u001b[01mchecking consistency... \u001b[39;49;00mdone\n",
            "\u001b[01mpreparing documents... \u001b[39;49;00mdone\n",
            "Building prefix dict from /usr/local/lib/python3.7/dist-packages/jieba/dict.txt ...\n",
            "Loading model from cache /tmp/jieba.cache\n",
            "Loading model cost 1.1966266632080078 seconds.\n",
            "Prefix dict has been built succesfully.\n",
            "\n",
            "\u001b[01mgenerating indices... \u001b[39;49;00mgenindex done\n",
            "\u001b[01mwriting additional pages... \u001b[39;49;00msearch done\n",
            "\u001b[01mcopying images... \u001b[39;49;00m[100%] \u001b[33mproses/wordgame/28.jpg\u001b[39;49;00m\n",
            "\u001b[01mcopying static files... \u001b[39;49;00mdone\n",
            "\u001b[01mcopying extra files... \u001b[39;49;00mdone\n",
            "\u001b[01mdumping search index in Chinese (code: zh)... \u001b[39;49;00mdone\n",
            "\u001b[01mdumping object inventory... \u001b[39;49;00mdone\n",
            "\u001b[01mbuild succeeded.\u001b[39;49;00m\n",
            "\n",
            "The HTML pages are in _build/html.\n",
            "\n",
            "\u001b[92m===============================================================================\u001b[0m\n",
            "\n",
            "Finished generating HTML for book.\n",
            "Your book's HTML pages are here:\n",
            "    _build/html/\n",
            "You can look at your book by opening this file in a browser:\n",
            "    _build/html/index.html\n",
            "Or paste this line directly into your browser bar:\n",
            "    file:///content/love/_build/html/index.html            \n",
            "\n",
            "\u001b[92m===============================================================================\u001b[0m\n",
            "\n"
          ]
        }
      ]
    }
  ]
}